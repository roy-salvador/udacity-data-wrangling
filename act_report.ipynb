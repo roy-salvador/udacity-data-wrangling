{
 "cells": [
  {
   "cell_type": "markdown",
   "metadata": {},
   "source": [
    "\n",
    "<h1><center>Udacity Project: <br /> Wrangle and Analyze Data</center><h1>\n",
    "<h2><center>Data Analysis Report <br/> Roy Amante A. Salvador</center></h2>\n"
   ]
  },
  {
   "cell_type": "markdown",
   "metadata": {},
   "source": [
    "<td style=\"text-align:left\"><a href=\"https://twitter.com/dog_rates?ref_src=twsrc%5Egoogle%7Ctwcamp%5Eserp%7Ctwgr%5Eauthor\">WeRateDogs</a> is a Twitter account that rates dogs. They receive images of people's dogs and they give it a rating coupled with some humorous caption. What started as a joke account in 2015, has become a viral sensation in just more than a year, garnering around 30,000 likes and 5000+ retweets per tweet as of August 1, 2017.\n",
    "\n",
    "<table>\n",
    "    <tr><td>\n",
    "        <img src=\"line_counts.png\" alt=\"Average Favorite and Reweet Counts\" style=\"width:800px;height:300px;\">\n",
    "    </td></tr>\n",
    "<table>"
   ]
  },
  {
   "cell_type": "markdown",
   "metadata": {},
   "source": [
    "They claim to be providers of professional dog ratings. As silly as this sounds, this might be true given that WeRateDogs (normalized) ratings have moderate positive correlation to both favorite and retweet counts. This means highly rated dog tweets have a tendency to be popular and more liked.\n",
    "\n",
    "\n",
    "<table>\n",
    "    <tr><td>\n",
    "<img src=\"scatter_rating_vs_counts.png\" alt=\"Rating Correlation with Favorite and Retweet Counts\" style=\"width:800px;height:300px;\">\n",
    "    </td></tr>\n",
    "<table>"
   ]
  },
  {
   "cell_type": "markdown",
   "metadata": {},
   "source": [
    "The average (normalized) rating is going up over time which further supports its positive correlation with favorite and retweet counts.\n",
    "\n",
    "<table>\n",
    "    <tr><td>\n",
    "<img src=\"line_ratings.png\" alt=\"Average Ratings Over Time\" style=\"width:800px;height:300px;\">\n",
    "    </td></tr>\n",
    "<table>\n",
    "    \n",
    "This trend may mean the overall memeable quality of submissions has improved. It could also be the quality of rating has been lowered but I'd like to think it's the former. Nonetheless, we attempted to explore what affects the rating."
   ]
  },
  {
   "cell_type": "markdown",
   "metadata": {},
   "source": [
    "We checked if the type of dog. Below are the dog breeds with the highest ratings. \n",
    "\n",
    "\n",
    "<table>\n",
    "    <tr><td>\n",
    "<img src=\"ranking_breed_rating.png\" alt=\"Highest Rated Breed\" style=\"width:800px;height:450px;\">\n",
    "    </td></tr>\n",
    "<table>"
   ]
  },
  {
   "cell_type": "markdown",
   "metadata": {},
   "source": [
    "Slightly higher ratings are given to fluffy, snuggable type of dogs compared to regular ones.\n",
    "\n",
    "<table>\n",
    "    <tr>\n",
    "     <td>\n",
    "    <img src=\"floofer.jpg\" alt=\"Average Rating By Dog Type\" style=\"width:500px;height:300px;\"> Im tired! Don't hug me please! <br/>\n",
    "            Image Taken from <a href=\"https://twitter.com/dog_rates/status/796080075804475393/photo/1\">WeRateDogs</a>, 2019 Dec 31.\n",
    "    </td>\n",
    "        <td>\n",
    "    <img src=\"bar_floofer.png\" alt=\"\" style=\"width:600px;height:300px;\">\n",
    "        </td>\n",
    "   </tr>\n",
    "\n",
    "</table>"
   ]
  },
  {
   "cell_type": "markdown",
   "metadata": {},
   "source": [
    "Surprisingly (at least to me), *puppers* tend to receive lower ratings than their mature counterparts. Perhaps *puppers* have not developed yet their full meme potential.\n",
    "\n",
    "<table>\n",
    "    <tr><td>\n",
    "    <img src=\"bar_dog_stage.png\" alt=\"Average Rating By Dog Stage\" style=\"width:600px;height:300px;\">\n",
    "        <td>\n",
    "    <img src=\"sad_pupper.jpg\" alt=\"Sad Pupper\" style=\"width:300px;height:300px;\"> There, There, sad little pupper! You'll grow up to be one nice doggo! <br/>\n",
    "            Image Taken from <a href=\"https://twitter.com/dog_rates/status/876838120628539392/photo/1\">WeRateDogs</a>, 2019 Dec 31.\n",
    "    </td>\n",
    "   </tr>\n",
    "\n",
    "</table>\n",
    "\n",
    "The ones with the lowest ratings tend to be submissions which <a href=\"https://twitter.com/dog_rates/status/718246886998687744/photo/1\">do not contain real dogs</a>, <a href=\"https://twitter.com/dog_rates/status/678424312106393600/photo/1\"> distasteful</a>, <a href=\"https://twitter.com/dog_rates/status/835152434251116546/photo/1\"> plagiarized</a> or <a href=\"https://twitter.com/dog_rates/status/668989615043424256/photo/1\"> contrived scenes</a> making the dog assume uncomfortable positions. But that's not the doggo's fault!\n"
   ]
  },
  {
   "cell_type": "markdown",
   "metadata": {},
   "source": [
    "Ratings probably don't even matter that much. In fact, the highly rated dog breeds are not necessarily the most popular and most favorite ones. \n",
    "\n",
    "<table>\n",
    "    <tr><td>\n",
    "<img src=\"ranking_breed_counts.png\" alt=\"Most favorite and retweeted breeds\" style=\"width:800px;height:900px;\">\n",
    "    </td></tr>\n",
    "<table>\n",
    "    \n",
    "The dog breeds in the top most liked and most popular list are pretty much the same. Golden Retriever, by far, is the most popular and well-liked dog breed at WeRateDogs.\n",
    "    \n"
   ]
  },
  {
   "cell_type": "markdown",
   "metadata": {},
   "source": [
    "<table>\n",
    "    <tr><td>\n",
    "    <img src=\"golden_retriever.jpg\" alt=\"Golden Retriever\" style=\"width:400px;height:400px;\" /> Thank you for your service soldier!  <br/> Image Taken from <a href=\"https://twitter.com/dog_rates/status/740373189193256964/photo/1\">WeRateDogs</a>, 2019 Dec 31.\n",
    "\n",
    "</table>\n",
    "    \n",
    "In the end, we're just there to consume our daily dose of dog memes to bring us joy."
   ]
  }
 ],
 "metadata": {
  "kernelspec": {
   "display_name": "Python [conda env:udacity_data_analyst] *",
   "language": "python",
   "name": "conda-env-udacity_data_analyst-py"
  },
  "language_info": {
   "codemirror_mode": {
    "name": "ipython",
    "version": 3
   },
   "file_extension": ".py",
   "mimetype": "text/x-python",
   "name": "python",
   "nbconvert_exporter": "python",
   "pygments_lexer": "ipython3",
   "version": "3.6.9"
  }
 },
 "nbformat": 4,
 "nbformat_minor": 2
}
